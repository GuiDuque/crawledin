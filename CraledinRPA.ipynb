{
 "cells": [
  {
   "cell_type": "markdown",
   "metadata": {},
   "source": [
    "# Crawledin - Parte 1:\n",
    "\n",
    "Após instalar as bibliotecas necessárias, siga executando uma célula por vez, após anterior finalizar"
   ]
  },
  {
   "cell_type": "code",
   "execution_count": 1,
   "metadata": {},
   "outputs": [],
   "source": [
    "import asyncio\n",
    "from pyppeteer import launch\n",
    "import pandas as pd\n",
    "import requests\n",
    "from json import loads\n",
    "import time\n",
    "import random\n",
    "from datetime import datetime\n",
    "from tqdm.notebook import tqdm\n",
    "\n",
    "\n",
    "# !pip install tqdm"
   ]
  },
  {
   "cell_type": "markdown",
   "metadata": {},
   "source": [
    "# Inicialização do browser para o usuário logar\n",
    "\n",
    "Faça login até chegar na página inicial do seu linkedin\n"
   ]
  },
  {
   "cell_type": "code",
   "execution_count": 2,
   "metadata": {},
   "outputs": [
    {
     "data": {
      "text/plain": [
       "<pyppeteer.network_manager.Response at 0x24242eb3108>"
      ]
     },
     "execution_count": 2,
     "metadata": {},
     "output_type": "execute_result"
    }
   ],
   "source": [
    "browser = await launch(\n",
    "        headless=False,\n",
    "        args=['--no-sandbox'],\n",
    "        autoClose=False\n",
    "    )\n",
    "page = await browser.newPage()\n",
    "await page.goto(\"https://www.linkedin.com/\")\n",
    "\n",
    "# digite se login e senha no browser e siga até estar na sua página inicial"
   ]
  },
  {
   "cell_type": "markdown",
   "metadata": {},
   "source": [
    "# Vai até a página de seus seguidores para pegar headers da API"
   ]
  },
  {
   "cell_type": "code",
   "execution_count": 3,
   "metadata": {},
   "outputs": [
    {
     "name": "stdout",
     "output_type": "stream",
     "text": [
      "8\n"
     ]
    }
   ],
   "source": [
    "await page.goto(\"https://www.linkedin.com/feed/followers/\")\n",
    "global headers\n",
    "headers = {}\n",
    "await page.setRequestInterception(True)\n",
    "async def intercept(request):\n",
    "    if (\"https://www.linkedin.com/voyager/api/feed/richRecommendedEntities\" in request.url ):\n",
    "        global headers\n",
    "        headers = request.headers\n",
    "        print(len(headers))\n",
    "    await request.continue_()\n",
    "page.on('request', lambda req: asyncio.ensure_future(intercept(req)))\n",
    "await page.evaluate( \"() => { window.scrollBy(0, window.innerHeight); }\");\n",
    "time.sleep(5)\n",
    "cookie1 = await page.cookies()\n",
    "s = []\n",
    "for e in cookie1:\n",
    "    s.append(f\"{e['name']}={e['value']}\")\n",
    "cookie1_str = \"; \".join(s)\n",
    "headers = {key: str(value) for key, value in headers.items()}\n",
    "headers[\"cookie\"] = cookie1_str"
   ]
  },
  {
   "cell_type": "markdown",
   "metadata": {},
   "source": [
    "# Funções para puxar dados do LinkedIn"
   ]
  },
  {
   "cell_type": "code",
   "execution_count": 9,
   "metadata": {},
   "outputs": [],
   "source": [
    "def get_data(countw, index_start, url, headers):\n",
    "    try:\n",
    "        resp = requests.get(url=url.format(countw=countw, index_start=index_start), headers=headers)\n",
    "        if resp.status_code == 200:\n",
    "            data = loads(resp.content.decode(\"utf-8\"))\n",
    "            return data\n",
    "        else:\n",
    "            raise Exception(f\"not allowed. headers or coockies problems. Status: {resp.status_code}\")\n",
    "    except Exception as e:\n",
    "        print(f\"error: {e}\")\n",
    "        return []\n",
    "    \n",
    "def agrupa_entidades(elements, data):\n",
    "    for element in data['data']['elements']:\n",
    "        for inc in data['included']:\n",
    "            ek = element.get(\"*recommendedEntity\", \"a\").split(\":member:\")[-1]\n",
    "            ik = inc.get('entityUrn',\"b\").split(\":\")[-1]\n",
    "            if ek == ik:\n",
    "                e = dict()\n",
    "                e.update(element)\n",
    "                e.update(inc)\n",
    "                elements[ek] = elements.get(ek, {})\n",
    "                elements[ek].update(e)\n",
    "    return elements\n",
    "\n",
    "def dict_element(e):\n",
    "    return {\n",
    "        \"seguidores\": e[\"followerCount\"],\n",
    "        \"influenciador\": e[\"influencer\"],\n",
    "        \"nome\": f\"{e['firstName']} {e['lastName']}\",\n",
    "        \"cargo\": e[\"occupation\"],\n",
    "        \"link\": f'https://www.linkedin.com/in/{e[\"publicIdentifier\"]}',\n",
    "        \"prova_social\": e[\"socialProofTotalCount\"],\n",
    "        \"publicacoes\": f'https://www.linkedin.com/in/{e[\"publicIdentifier\"]}/detail/recent-activity/shares/',\n",
    "        \"localizacao\": e[\"locationName\"]\n",
    "    }\n",
    "\n",
    "def dataFrame_element(e):\n",
    "    return pd.DataFrame.from_dict([dict_element(e)])\n",
    "\n",
    "                                  \n",
    "def get_data_in_range(groups_qty, countw, first_index_start, url_inf_scroll, headers, wait_time, wait_random_time):\n",
    "    df = pd.DataFrame([], columns=[\"seguidores\", \"influenciador\", \"nome\", \"cargo\", \"link\", \"prova_social\", \"publicacoes\", \"localizacao\"])\n",
    "    for i in tqdm(range(groups_qty)):\n",
    "        data1 = get_data(countw, first_index_start + countw*i, url_inf_scroll, headers)\n",
    "        elements1 = dict()\n",
    "        agrupa_entidades(elements1, data1)\n",
    "        time.sleep(wait_time + wait_random_time * random.random())\n",
    "        for e in elements1.values():\n",
    "            df_t = dataFrame_element(e)\n",
    "            df = df.append(df_t, ignore_index=True)\n",
    "    return df\n",
    "            "
   ]
  },
  {
   "cell_type": "markdown",
   "metadata": {},
   "source": [
    "# Essa etapa executa de fato a consulta\n",
    "\n",
    "No primeiro parâmetro você passa seu número de seguidores divido por 20. Pode passar menos também, para trazer apenas uma amostra.\n",
    "Os dois ultimos parâmetros são de tempo para esperar entre uma requisição. Se quiser zerar ele fica mais rápido, mas não recomendo."
   ]
  },
  {
   "cell_type": "code",
   "execution_count": 10,
   "metadata": {},
   "outputs": [
    {
     "data": {
      "application/vnd.jupyter.widget-view+json": {
       "model_id": "b97b6af0a2994855a9e930c6f65ccadc",
       "version_major": 2,
       "version_minor": 0
      },
      "text/plain": [
       "HBox(children=(HTML(value=''), FloatProgress(value=0.0, max=124.0), HTML(value='')))"
      ]
     },
     "metadata": {},
     "output_type": "display_data"
    },
    {
     "name": "stdout",
     "output_type": "stream",
     "text": [
      "\n"
     ]
    },
    {
     "data": {
      "text/html": [
       "<div>\n",
       "<style scoped>\n",
       "    .dataframe tbody tr th:only-of-type {\n",
       "        vertical-align: middle;\n",
       "    }\n",
       "\n",
       "    .dataframe tbody tr th {\n",
       "        vertical-align: top;\n",
       "    }\n",
       "\n",
       "    .dataframe thead th {\n",
       "        text-align: right;\n",
       "    }\n",
       "</style>\n",
       "<table border=\"1\" class=\"dataframe\">\n",
       "  <thead>\n",
       "    <tr style=\"text-align: right;\">\n",
       "      <th></th>\n",
       "      <th>seguidores</th>\n",
       "      <th>influenciador</th>\n",
       "      <th>nome</th>\n",
       "      <th>cargo</th>\n",
       "      <th>link</th>\n",
       "      <th>prova_social</th>\n",
       "      <th>publicacoes</th>\n",
       "      <th>localizacao</th>\n",
       "    </tr>\n",
       "  </thead>\n",
       "  <tbody>\n",
       "    <tr>\n",
       "      <td>0</td>\n",
       "      <td>24268</td>\n",
       "      <td>False</td>\n",
       "      <td>Jairo Andrade Junior</td>\n",
       "      <td>Engenheiro, Gestor e Consultor</td>\n",
       "      <td>https://www.linkedin.com/in/jairo-andrade-juni...</td>\n",
       "      <td>1</td>\n",
       "      <td>https://www.linkedin.com/in/jairo-andrade-juni...</td>\n",
       "      <td>None</td>\n",
       "    </tr>\n",
       "    <tr>\n",
       "      <td>1</td>\n",
       "      <td>1123</td>\n",
       "      <td>False</td>\n",
       "      <td>Ana Carolina Leo</td>\n",
       "      <td>Executive and Legal Director | Norte Global Tr...</td>\n",
       "      <td>https://www.linkedin.com/in/ana-carolina-leo-8...</td>\n",
       "      <td>0</td>\n",
       "      <td>https://www.linkedin.com/in/ana-carolina-leo-8...</td>\n",
       "      <td>None</td>\n",
       "    </tr>\n",
       "    <tr>\n",
       "      <td>2</td>\n",
       "      <td>475</td>\n",
       "      <td>False</td>\n",
       "      <td>Cazuza Neto</td>\n",
       "      <td>Software Engineer na Jaya Tech</td>\n",
       "      <td>https://www.linkedin.com/in/cazuzaneto</td>\n",
       "      <td>0</td>\n",
       "      <td>https://www.linkedin.com/in/cazuzaneto/detail/...</td>\n",
       "      <td>None</td>\n",
       "    </tr>\n",
       "    <tr>\n",
       "      <td>3</td>\n",
       "      <td>4484</td>\n",
       "      <td>False</td>\n",
       "      <td>Fernanda Camargos</td>\n",
       "      <td>Psicóloga | RH ágil | People Experience | Dese...</td>\n",
       "      <td>https://www.linkedin.com/in/fernanda-camargos-...</td>\n",
       "      <td>1</td>\n",
       "      <td>https://www.linkedin.com/in/fernanda-camargos-...</td>\n",
       "      <td>None</td>\n",
       "    </tr>\n",
       "    <tr>\n",
       "      <td>4</td>\n",
       "      <td>2772</td>\n",
       "      <td>False</td>\n",
       "      <td>Raphael Henrique</td>\n",
       "      <td>iOS Developer | Front-End</td>\n",
       "      <td>https://www.linkedin.com/in/raphael-henrique-b...</td>\n",
       "      <td>2</td>\n",
       "      <td>https://www.linkedin.com/in/raphael-henrique-b...</td>\n",
       "      <td>None</td>\n",
       "    </tr>\n",
       "    <tr>\n",
       "      <td>...</td>\n",
       "      <td>...</td>\n",
       "      <td>...</td>\n",
       "      <td>...</td>\n",
       "      <td>...</td>\n",
       "      <td>...</td>\n",
       "      <td>...</td>\n",
       "      <td>...</td>\n",
       "      <td>...</td>\n",
       "    </tr>\n",
       "    <tr>\n",
       "      <td>1521</td>\n",
       "      <td>15365</td>\n",
       "      <td>False</td>\n",
       "      <td>Ana Carolina Buschinelli</td>\n",
       "      <td>Tech Recruiter | Talent Acquisition | Mentora ...</td>\n",
       "      <td>https://www.linkedin.com/in/ana-carolina-busch...</td>\n",
       "      <td>5</td>\n",
       "      <td>https://www.linkedin.com/in/ana-carolina-busch...</td>\n",
       "      <td>None</td>\n",
       "    </tr>\n",
       "    <tr>\n",
       "      <td>1522</td>\n",
       "      <td>4025</td>\n",
       "      <td>False</td>\n",
       "      <td>Lais Guedes</td>\n",
       "      <td>Desenvolvedora Front-end</td>\n",
       "      <td>https://www.linkedin.com/in/lais-guedes-692476115</td>\n",
       "      <td>0</td>\n",
       "      <td>https://www.linkedin.com/in/lais-guedes-692476...</td>\n",
       "      <td>None</td>\n",
       "    </tr>\n",
       "    <tr>\n",
       "      <td>1523</td>\n",
       "      <td>5556</td>\n",
       "      <td>False</td>\n",
       "      <td>Thiago Ribeiro</td>\n",
       "      <td>Gerente Geral na ibis, ibis Styles, ibis budget</td>\n",
       "      <td>https://www.linkedin.com/in/thiago-ribeiro-75b...</td>\n",
       "      <td>0</td>\n",
       "      <td>https://www.linkedin.com/in/thiago-ribeiro-75b...</td>\n",
       "      <td>None</td>\n",
       "    </tr>\n",
       "    <tr>\n",
       "      <td>1524</td>\n",
       "      <td>580</td>\n",
       "      <td>False</td>\n",
       "      <td>Jose Adonai Arruda dos Santos</td>\n",
       "      <td>Systems Engineering - UFMG, Brazil | Computer ...</td>\n",
       "      <td>https://www.linkedin.com/in/adonai-arruda</td>\n",
       "      <td>0</td>\n",
       "      <td>https://www.linkedin.com/in/adonai-arruda/deta...</td>\n",
       "      <td>None</td>\n",
       "    </tr>\n",
       "    <tr>\n",
       "      <td>1525</td>\n",
       "      <td>825</td>\n",
       "      <td>False</td>\n",
       "      <td>Maria Eduarda Costa</td>\n",
       "      <td>Desenvolvedora Estagiária | dti digital</td>\n",
       "      <td>https://www.linkedin.com/in/maria-eduarda-costa</td>\n",
       "      <td>0</td>\n",
       "      <td>https://www.linkedin.com/in/maria-eduarda-cost...</td>\n",
       "      <td>None</td>\n",
       "    </tr>\n",
       "  </tbody>\n",
       "</table>\n",
       "<p>1526 rows × 8 columns</p>\n",
       "</div>"
      ],
      "text/plain": [
       "     seguidores influenciador                           nome  \\\n",
       "0         24268         False           Jairo Andrade Junior   \n",
       "1          1123         False               Ana Carolina Leo   \n",
       "2           475         False                    Cazuza Neto   \n",
       "3          4484         False              Fernanda Camargos   \n",
       "4          2772         False               Raphael Henrique   \n",
       "...         ...           ...                            ...   \n",
       "1521      15365         False       Ana Carolina Buschinelli   \n",
       "1522       4025         False                    Lais Guedes   \n",
       "1523       5556         False                 Thiago Ribeiro   \n",
       "1524        580         False  Jose Adonai Arruda dos Santos   \n",
       "1525        825         False            Maria Eduarda Costa   \n",
       "\n",
       "                                                  cargo  \\\n",
       "0                        Engenheiro, Gestor e Consultor   \n",
       "1     Executive and Legal Director | Norte Global Tr...   \n",
       "2                        Software Engineer na Jaya Tech   \n",
       "3     Psicóloga | RH ágil | People Experience | Dese...   \n",
       "4                             iOS Developer | Front-End   \n",
       "...                                                 ...   \n",
       "1521  Tech Recruiter | Talent Acquisition | Mentora ...   \n",
       "1522                           Desenvolvedora Front-end   \n",
       "1523    Gerente Geral na ibis, ibis Styles, ibis budget   \n",
       "1524  Systems Engineering - UFMG, Brazil | Computer ...   \n",
       "1525            Desenvolvedora Estagiária | dti digital   \n",
       "\n",
       "                                                   link prova_social  \\\n",
       "0     https://www.linkedin.com/in/jairo-andrade-juni...            1   \n",
       "1     https://www.linkedin.com/in/ana-carolina-leo-8...            0   \n",
       "2                https://www.linkedin.com/in/cazuzaneto            0   \n",
       "3     https://www.linkedin.com/in/fernanda-camargos-...            1   \n",
       "4     https://www.linkedin.com/in/raphael-henrique-b...            2   \n",
       "...                                                 ...          ...   \n",
       "1521  https://www.linkedin.com/in/ana-carolina-busch...            5   \n",
       "1522  https://www.linkedin.com/in/lais-guedes-692476115            0   \n",
       "1523  https://www.linkedin.com/in/thiago-ribeiro-75b...            0   \n",
       "1524          https://www.linkedin.com/in/adonai-arruda            0   \n",
       "1525    https://www.linkedin.com/in/maria-eduarda-costa            0   \n",
       "\n",
       "                                            publicacoes localizacao  \n",
       "0     https://www.linkedin.com/in/jairo-andrade-juni...        None  \n",
       "1     https://www.linkedin.com/in/ana-carolina-leo-8...        None  \n",
       "2     https://www.linkedin.com/in/cazuzaneto/detail/...        None  \n",
       "3     https://www.linkedin.com/in/fernanda-camargos-...        None  \n",
       "4     https://www.linkedin.com/in/raphael-henrique-b...        None  \n",
       "...                                                 ...         ...  \n",
       "1521  https://www.linkedin.com/in/ana-carolina-busch...        None  \n",
       "1522  https://www.linkedin.com/in/lais-guedes-692476...        None  \n",
       "1523  https://www.linkedin.com/in/thiago-ribeiro-75b...        None  \n",
       "1524  https://www.linkedin.com/in/adonai-arruda/deta...        None  \n",
       "1525  https://www.linkedin.com/in/maria-eduarda-cost...        None  \n",
       "\n",
       "[1526 rows x 8 columns]"
      ]
     },
     "execution_count": 10,
     "metadata": {},
     "output_type": "execute_result"
    }
   ],
   "source": [
    "countw = 20\n",
    "index_start = 0\n",
    "groups_qty = 2750 / 20 # seguidores dividos por 20\n",
    "url_inf_scroll = \"https://www.linkedin.com/voyager/api/feed/richRecommendedEntities?count={countw}&q=followerRecommendations&start={index_start}\"\n",
    "\n",
    "df = get_data_in_range(groups_qty, countw, index_start, url_inf_scroll, headers, .1, .5)\n",
    "df"
   ]
  },
  {
   "cell_type": "markdown",
   "metadata": {},
   "source": [
    "#  Exibe o data frame ordenado por seguidores"
   ]
  },
  {
   "cell_type": "code",
   "execution_count": 11,
   "metadata": {},
   "outputs": [
    {
     "data": {
      "text/html": [
       "<div>\n",
       "<style scoped>\n",
       "    .dataframe tbody tr th:only-of-type {\n",
       "        vertical-align: middle;\n",
       "    }\n",
       "\n",
       "    .dataframe tbody tr th {\n",
       "        vertical-align: top;\n",
       "    }\n",
       "\n",
       "    .dataframe thead th {\n",
       "        text-align: right;\n",
       "    }\n",
       "</style>\n",
       "<table border=\"1\" class=\"dataframe\">\n",
       "  <thead>\n",
       "    <tr style=\"text-align: right;\">\n",
       "      <th></th>\n",
       "      <th>seguidores</th>\n",
       "      <th>influenciador</th>\n",
       "      <th>nome</th>\n",
       "      <th>cargo</th>\n",
       "      <th>link</th>\n",
       "      <th>prova_social</th>\n",
       "      <th>publicacoes</th>\n",
       "      <th>localizacao</th>\n",
       "    </tr>\n",
       "  </thead>\n",
       "  <tbody>\n",
       "    <tr>\n",
       "      <td>1490</td>\n",
       "      <td>575851</td>\n",
       "      <td>True</td>\n",
       "      <td>Gustavo Caetano</td>\n",
       "      <td>CEO da SambaTech, Linkedin InFluencer (570k se...</td>\n",
       "      <td>https://www.linkedin.com/in/gustavocaetano</td>\n",
       "      <td>457</td>\n",
       "      <td>https://www.linkedin.com/in/gustavocaetano/det...</td>\n",
       "      <td>None</td>\n",
       "    </tr>\n",
       "    <tr>\n",
       "      <td>381</td>\n",
       "      <td>73722</td>\n",
       "      <td>False</td>\n",
       "      <td>Dalva Corrêa</td>\n",
       "      <td>LinkedIn Top Voices 2020 | Professora e Mentor...</td>\n",
       "      <td>https://www.linkedin.com/in/dalvacorrea</td>\n",
       "      <td>41</td>\n",
       "      <td>https://www.linkedin.com/in/dalvacorrea/detail...</td>\n",
       "      <td>None</td>\n",
       "    </tr>\n",
       "    <tr>\n",
       "      <td>1121</td>\n",
       "      <td>66639</td>\n",
       "      <td>False</td>\n",
       "      <td>Eduardo Felix</td>\n",
       "      <td>Especialista em Recursos Humanos e Carreiras |...</td>\n",
       "      <td>https://www.linkedin.com/in/eduardomfelix</td>\n",
       "      <td>62</td>\n",
       "      <td>https://www.linkedin.com/in/eduardomfelix/deta...</td>\n",
       "      <td>None</td>\n",
       "    </tr>\n",
       "    <tr>\n",
       "      <td>1491</td>\n",
       "      <td>57404</td>\n",
       "      <td>False</td>\n",
       "      <td>Débora Alcantara</td>\n",
       "      <td>Comunicadora | Vencedora do Prêmio ABRADI Prof...</td>\n",
       "      <td>https://www.linkedin.com/in/deboraalcantara</td>\n",
       "      <td>66</td>\n",
       "      <td>https://www.linkedin.com/in/deboraalcantara/de...</td>\n",
       "      <td>None</td>\n",
       "    </tr>\n",
       "    <tr>\n",
       "      <td>912</td>\n",
       "      <td>36998</td>\n",
       "      <td>False</td>\n",
       "      <td>Thiago Lima</td>\n",
       "      <td>Founder &amp; CEO at LinkApi</td>\n",
       "      <td>https://www.linkedin.com/in/thiagolimabr</td>\n",
       "      <td>43</td>\n",
       "      <td>https://www.linkedin.com/in/thiagolimabr/detai...</td>\n",
       "      <td>None</td>\n",
       "    </tr>\n",
       "  </tbody>\n",
       "</table>\n",
       "</div>"
      ],
      "text/plain": [
       "     seguidores influenciador              nome  \\\n",
       "1490     575851          True   Gustavo Caetano   \n",
       "381       73722         False      Dalva Corrêa   \n",
       "1121      66639         False     Eduardo Felix   \n",
       "1491      57404         False  Débora Alcantara   \n",
       "912       36998         False       Thiago Lima   \n",
       "\n",
       "                                                  cargo  \\\n",
       "1490  CEO da SambaTech, Linkedin InFluencer (570k se...   \n",
       "381   LinkedIn Top Voices 2020 | Professora e Mentor...   \n",
       "1121  Especialista em Recursos Humanos e Carreiras |...   \n",
       "1491  Comunicadora | Vencedora do Prêmio ABRADI Prof...   \n",
       "912                            Founder & CEO at LinkApi   \n",
       "\n",
       "                                             link prova_social  \\\n",
       "1490   https://www.linkedin.com/in/gustavocaetano          457   \n",
       "381       https://www.linkedin.com/in/dalvacorrea           41   \n",
       "1121    https://www.linkedin.com/in/eduardomfelix           62   \n",
       "1491  https://www.linkedin.com/in/deboraalcantara           66   \n",
       "912      https://www.linkedin.com/in/thiagolimabr           43   \n",
       "\n",
       "                                            publicacoes localizacao  \n",
       "1490  https://www.linkedin.com/in/gustavocaetano/det...        None  \n",
       "381   https://www.linkedin.com/in/dalvacorrea/detail...        None  \n",
       "1121  https://www.linkedin.com/in/eduardomfelix/deta...        None  \n",
       "1491  https://www.linkedin.com/in/deboraalcantara/de...        None  \n",
       "912   https://www.linkedin.com/in/thiagolimabr/detai...        None  "
      ]
     },
     "execution_count": 11,
     "metadata": {},
     "output_type": "execute_result"
    }
   ],
   "source": [
    "df.sort_values(by=\"seguidores\", ascending=False).head()\n"
   ]
  },
  {
   "cell_type": "markdown",
   "metadata": {},
   "source": [
    "# Salva o dataframe em csv com a data e hora"
   ]
  },
  {
   "cell_type": "code",
   "execution_count": 34,
   "metadata": {},
   "outputs": [],
   "source": [
    "df.sort_values(by=\"seguidores\", ascending=False).to_csv(f'crawledin-{datetime.now().strftime(\"%Y-%m-%d_%H-%M\")}.csv', index=False)"
   ]
  },
  {
   "cell_type": "markdown",
   "metadata": {},
   "source": [
    "# Visita a página de seguidores com conteudo."
   ]
  },
  {
   "cell_type": "code",
   "execution_count": 54,
   "metadata": {},
   "outputs": [
    {
     "name": "stdout",
     "output_type": "stream",
     "text": [
      "https://www.linkedin.com/in/donizete-crisostomo-4b24a318b\n",
      "https://www.linkedin.com/in/thais-matos-acacio\n",
      "https://www.linkedin.com/in/phelipe-salustiano\n"
     ]
    },
    {
     "name": "stderr",
     "output_type": "stream",
     "text": [
      "Future exception was never retrieved\n",
      "future: <Future finished exception=NetworkError('Protocol error (Target.sendMessageToTarget): No session with given id')>\n",
      "pyppeteer.errors.NetworkError: Protocol error (Target.sendMessageToTarget): No session with given id\n"
     ]
    },
    {
     "name": "stdout",
     "output_type": "stream",
     "text": [
      "https://www.linkedin.com/in/carolvieirav\n"
     ]
    },
    {
     "name": "stderr",
     "output_type": "stream",
     "text": [
      "Future exception was never retrieved\n",
      "future: <Future finished exception=NetworkError('Protocol error (Target.sendMessageToTarget): No session with given id')>\n",
      "pyppeteer.errors.NetworkError: Protocol error (Target.sendMessageToTarget): No session with given id\n"
     ]
    },
    {
     "name": "stdout",
     "output_type": "stream",
     "text": [
      "https://www.linkedin.com/in/maycon-jean-de-moura-25273a158\n"
     ]
    },
    {
     "name": "stderr",
     "output_type": "stream",
     "text": [
      "Future exception was never retrieved\n",
      "future: <Future finished exception=NetworkError('Protocol error (Target.sendMessageToTarget): No session with given id')>\n",
      "pyppeteer.errors.NetworkError: Protocol error (Target.sendMessageToTarget): No session with given id\n"
     ]
    },
    {
     "name": "stdout",
     "output_type": "stream",
     "text": [
      "https://www.linkedin.com/in/marcos-rodrigues-69b18949\n"
     ]
    },
    {
     "name": "stderr",
     "output_type": "stream",
     "text": [
      "Future exception was never retrieved\n",
      "future: <Future finished exception=NetworkError('Protocol error (Target.sendMessageToTarget): No session with given id')>\n",
      "pyppeteer.errors.NetworkError: Protocol error (Target.sendMessageToTarget): No session with given id\n"
     ]
    },
    {
     "name": "stdout",
     "output_type": "stream",
     "text": [
      "https://www.linkedin.com/in/mariane-de-oliveira-pereira-9583ab23\n"
     ]
    },
    {
     "name": "stderr",
     "output_type": "stream",
     "text": [
      "Future exception was never retrieved\n",
      "future: <Future finished exception=NetworkError('Protocol error (Target.sendMessageToTarget): No session with given id')>\n",
      "pyppeteer.errors.NetworkError: Protocol error (Target.sendMessageToTarget): No session with given id\n"
     ]
    },
    {
     "name": "stdout",
     "output_type": "stream",
     "text": [
      "https://www.linkedin.com/in/kamilla-ribeiro-marketing-ab6500124\n"
     ]
    },
    {
     "name": "stderr",
     "output_type": "stream",
     "text": [
      "Future exception was never retrieved\n",
      "future: <Future finished exception=NetworkError('Protocol error (Target.sendMessageToTarget): No session with given id')>\n",
      "pyppeteer.errors.NetworkError: Protocol error (Target.sendMessageToTarget): No session with given id\n"
     ]
    },
    {
     "name": "stdout",
     "output_type": "stream",
     "text": [
      "https://www.linkedin.com/in/kelle-cristina-50264b36\n"
     ]
    },
    {
     "name": "stderr",
     "output_type": "stream",
     "text": [
      "Future exception was never retrieved\n",
      "future: <Future finished exception=NetworkError('Protocol error (Target.sendMessageToTarget): No session with given id')>\n",
      "pyppeteer.errors.NetworkError: Protocol error (Target.sendMessageToTarget): No session with given id\n"
     ]
    },
    {
     "name": "stdout",
     "output_type": "stream",
     "text": [
      "https://www.linkedin.com/in/paulo-ramirez\n"
     ]
    },
    {
     "name": "stderr",
     "output_type": "stream",
     "text": [
      "Future exception was never retrieved\n",
      "future: <Future finished exception=NetworkError('Protocol error (Target.sendMessageToTarget): No session with given id')>\n",
      "pyppeteer.errors.NetworkError: Protocol error (Target.sendMessageToTarget): No session with given id\n"
     ]
    },
    {
     "name": "stdout",
     "output_type": "stream",
     "text": [
      "https://www.linkedin.com/in/anabeatriznfernandes\n"
     ]
    },
    {
     "name": "stderr",
     "output_type": "stream",
     "text": [
      "Future exception was never retrieved\n",
      "future: <Future finished exception=NetworkError('Protocol error (Target.sendMessageToTarget): No session with given id')>\n",
      "pyppeteer.errors.NetworkError: Protocol error (Target.sendMessageToTarget): No session with given id\n"
     ]
    },
    {
     "name": "stdout",
     "output_type": "stream",
     "text": [
      "https://www.linkedin.com/in/fmoset\n"
     ]
    },
    {
     "name": "stderr",
     "output_type": "stream",
     "text": [
      "Future exception was never retrieved\n",
      "future: <Future finished exception=NetworkError('Protocol error (Target.sendMessageToTarget): No session with given id')>\n",
      "pyppeteer.errors.NetworkError: Protocol error (Target.sendMessageToTarget): No session with given id\n"
     ]
    },
    {
     "name": "stdout",
     "output_type": "stream",
     "text": [
      "https://www.linkedin.com/in/daniella-rosenburg-46327b29\n"
     ]
    },
    {
     "name": "stderr",
     "output_type": "stream",
     "text": [
      "Future exception was never retrieved\n",
      "future: <Future finished exception=NetworkError('Protocol error (Target.sendMessageToTarget): No session with given id')>\n",
      "pyppeteer.errors.NetworkError: Protocol error (Target.sendMessageToTarget): No session with given id\n"
     ]
    },
    {
     "name": "stdout",
     "output_type": "stream",
     "text": [
      "https://www.linkedin.com/in/holisses-bellon-1862bb164\n"
     ]
    },
    {
     "name": "stderr",
     "output_type": "stream",
     "text": [
      "Future exception was never retrieved\n",
      "future: <Future finished exception=NetworkError('Protocol error (Target.sendMessageToTarget): No session with given id')>\n",
      "pyppeteer.errors.NetworkError: Protocol error (Target.sendMessageToTarget): No session with given id\n"
     ]
    },
    {
     "name": "stdout",
     "output_type": "stream",
     "text": [
      "https://www.linkedin.com/in/alexsander-manzoli-239a63ba\n"
     ]
    },
    {
     "name": "stderr",
     "output_type": "stream",
     "text": [
      "Future exception was never retrieved\n",
      "future: <Future finished exception=NetworkError('Protocol error (Target.sendMessageToTarget): No session with given id')>\n",
      "pyppeteer.errors.NetworkError: Protocol error (Target.sendMessageToTarget): No session with given id\n"
     ]
    },
    {
     "name": "stdout",
     "output_type": "stream",
     "text": [
      "https://www.linkedin.com/in/godoygabriela\n"
     ]
    },
    {
     "name": "stderr",
     "output_type": "stream",
     "text": [
      "Future exception was never retrieved\n",
      "future: <Future finished exception=NetworkError('Protocol error (Target.sendMessageToTarget): No session with given id')>\n",
      "pyppeteer.errors.NetworkError: Protocol error (Target.sendMessageToTarget): No session with given id\n"
     ]
    },
    {
     "name": "stdout",
     "output_type": "stream",
     "text": [
      "https://www.linkedin.com/in/cazuzaneto\n"
     ]
    },
    {
     "name": "stderr",
     "output_type": "stream",
     "text": [
      "Future exception was never retrieved\n",
      "future: <Future finished exception=NetworkError('Protocol error (Target.sendMessageToTarget): No session with given id')>\n",
      "pyppeteer.errors.NetworkError: Protocol error (Target.sendMessageToTarget): No session with given id\n"
     ]
    },
    {
     "name": "stdout",
     "output_type": "stream",
     "text": [
      "https://www.linkedin.com/in/rodolfooviana\n"
     ]
    },
    {
     "name": "stderr",
     "output_type": "stream",
     "text": [
      "Future exception was never retrieved\n",
      "future: <Future finished exception=NetworkError('Protocol error (Target.sendMessageToTarget): No session with given id')>\n",
      "pyppeteer.errors.NetworkError: Protocol error (Target.sendMessageToTarget): No session with given id\n"
     ]
    },
    {
     "name": "stdout",
     "output_type": "stream",
     "text": [
      "https://www.linkedin.com/in/larissa-bicalho-pimenta-05a597119\n"
     ]
    },
    {
     "name": "stderr",
     "output_type": "stream",
     "text": [
      "Future exception was never retrieved\n",
      "future: <Future finished exception=NetworkError('Protocol error (Target.sendMessageToTarget): No session with given id')>\n",
      "pyppeteer.errors.NetworkError: Protocol error (Target.sendMessageToTarget): No session with given id\n"
     ]
    },
    {
     "name": "stdout",
     "output_type": "stream",
     "text": [
      "https://www.linkedin.com/in/rogeriocs\n"
     ]
    },
    {
     "name": "stderr",
     "output_type": "stream",
     "text": [
      "Future exception was never retrieved\n",
      "future: <Future finished exception=NetworkError('Protocol error (Target.sendMessageToTarget): No session with given id')>\n",
      "pyppeteer.errors.NetworkError: Protocol error (Target.sendMessageToTarget): No session with given id\n"
     ]
    }
   ],
   "source": [
    "for index, row in df.sample(20).iterrows():\n",
    "    print(row['link'])\n",
    "    await page.goto(row['publicacoes'])\n",
    "    elements = (await page.querySelectorAll(\"h1\"))\n",
    "    tem_post = True\n",
    "    for e in elements:\n",
    "        if \"Nada para ver por enquanto\" in await page.evaluate('(element) => element.textContent', e):\n",
    "            tem_post = False\n",
    "    if tem_post:\n",
    "        time.sleep(9 + 2 * random.random())\n",
    "    else:\n",
    "        time.sleep(1)\n",
    "\n"
   ]
  }
 ],
 "metadata": {
  "kernelspec": {
   "display_name": "Python 3",
   "language": "python",
   "name": "python3"
  },
  "language_info": {
   "codemirror_mode": {
    "name": "ipython",
    "version": 3
   },
   "file_extension": ".py",
   "mimetype": "text/x-python",
   "name": "python",
   "nbconvert_exporter": "python",
   "pygments_lexer": "ipython3",
   "version": "3.7.4"
  }
 },
 "nbformat": 4,
 "nbformat_minor": 4
}